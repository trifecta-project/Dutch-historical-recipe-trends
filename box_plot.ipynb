{
 "cells": [
  {
   "cell_type": "code",
   "execution_count": null,
   "metadata": {},
   "outputs": [],
   "source": [
    "import pandas as pd\n",
    "import matplotlib.pyplot as plt\n",
    "\n",
    "def count_ingredients(file_path):\n",
    "    df = pd.read_csv(file_path)\n",
    "    \n",
    "    df['ingredient_count'] = df['Ingredients'].apply(lambda x: len(x.split(',')) if isinstance(x, str) else 0)\n",
    "    \n",
    "    average_ingredient_count = df['ingredient_count'].mean()\n",
    "    \n",
    "    return df['ingredient_count'], average_ingredient_count\n",
    "\n",
    "file_paths = ['1910_count.csv', '1912_count.csv', '1925_count.csv', '1932_count.csv','1938_count.csv','1939_count.csv','1940_count.csv','1941_1950_count.csv', '1951_1960_count.csv', '1961_1970_count.csv', '1971_1980_count.csv', '1981_1990_count.csv', '1991_2000_count.csv']\n",
    "file_names = ['AHS_1', 'AHS_2', 'AHS_3', 'KHB_4', 'CHB_5', 'MHS_6', 'AHS_7','HRW_1', 'HRW_2', 'HRW_3', 'HRW_4','HRW_5', 'HRW_6']\n",
    "\n",
    "ingredient_counts_per_file = []\n",
    "average_counts = []\n",
    "\n",
    "for file_path in file_paths:\n",
    "    counts, avg_count = count_ingredients(file_path)\n",
    "    ingredient_counts_per_file.append(counts)\n",
    "    average_counts.append(avg_count)\n",
    "\n",
    "highlighted_files = {'HRW_1', 'HRW_2', 'HRW_3', 'HRW_4','HRW_5', 'HRW_6'}\n",
    "\n",
    "plt.figure(figsize=(12, 6))\n",
    "box = plt.boxplot(ingredient_counts_per_file, labels=file_names, patch_artist=True, medianprops=dict(color='red'))\n",
    "\n",
    "for i, (box_patch, flier) in enumerate(zip(box['boxes'], box['fliers'])):\n",
    "    if file_names[i] in highlighted_files:\n",
    "        box_patch.set_facecolor('aqua')  # Change box color\n",
    "    else:\n",
    "        box_patch.set_facecolor('lightskyblue')  # Default box color\n",
    "       \n",
    "\n",
    "plt.rcParams.update({'font.size': 13})\n",
    "plt.xlabel('Datasets')\n",
    "plt.ylabel('Number of Ingredients')\n",
    "plt.grid(True)\n",
    "plt.savefig('Box_plot_big.png')\n",
    "plt.show()\n"
   ]
  }
 ],
 "metadata": {
  "language_info": {
   "name": "python"
  }
 },
 "nbformat": 4,
 "nbformat_minor": 2
}
