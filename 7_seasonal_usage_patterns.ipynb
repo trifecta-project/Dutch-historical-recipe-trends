{
 "cells": [
  {
   "cell_type": "markdown",
   "metadata": {},
   "source": [
    "<h4> Dividing HRW data per month"
   ]
  },
  {
   "cell_type": "code",
   "execution_count": null,
   "metadata": {},
   "outputs": [],
   "source": [
    "import pandas as pd\n",
    "\n",
    "df = pd.read_csv('clean_recipe_web.csv')\n",
    "\n",
    "df['date'] = pd.to_datetime(df['date'], errors='coerce')\n",
    "\n",
    "df['month'] = df['date'].dt.month\n",
    "\n",
    "columns_to_drop = ['doc_url', 'h', 'w', 'identified_language', 'ocr_score', 'quant', 'tags']\n",
    "df_cleaned = df.drop(columns=columns_to_drop)\n",
    "\n",
    "df_cleaned.rename(columns={df_cleaned.columns[0]: 'Sr no'}, inplace=True)\n",
    "\n",
    "for month in range(1, 13): \n",
    "    df_month = df_cleaned[df_cleaned['month'] == month]\n",
    "    df_month.to_csv(f'recipes_month_{month}.csv', index=False)\n",
    "\n",
    "    print(f\"Data for month {month} has been saved as 'recipes_month_{month}.csv'\")\n"
   ]
  },
  {
   "cell_type": "markdown",
   "metadata": {},
   "source": [
    "<h4> Seasonal Usage"
   ]
  },
  {
   "cell_type": "code",
   "execution_count": null,
   "metadata": {},
   "outputs": [],
   "source": [
    "import pandas as pd\n",
    "import os\n",
    "import matplotlib.pyplot as plt\n",
    "\n",
    "# Cookbooks dataset\n",
    "cookbook_file = \"cookbook_months.csv\"\n",
    "cookbook_df = pd.read_csv(cookbook_file)\n",
    "\n",
    "# HRW dataset\n",
    "newspaper_files = [f\"recipes_month_{i}.csv\" for i in range(1, 13)]\n",
    "newspaper_df_list = [pd.read_csv(f) for f in newspaper_files]\n",
    "newspaper_df = pd.concat(newspaper_df_list, ignore_index=True)\n",
    "\n",
    "def clean_ingredients(ingredient_str):\n",
    "    if pd.isna(ingredient_str):\n",
    "        return set()\n",
    "    return set(ing.strip().lower() for ing in ingredient_str.split(\",\"))\n",
    "\n",
    "cookbook_df[\"Ingredients\"] = cookbook_df[\"Ingredients\"].apply(clean_ingredients)\n",
    "newspaper_df[\"Ingredients\"] = newspaper_df[\"Ingredients\"].apply(clean_ingredients)\n",
    "\n",
    "cookbooks_ingredients_per_month = cookbook_df.groupby(\"month\")[\"Ingredients\"].apply(lambda x: set.union(*x))\n",
    "\n",
    "alignment_results = []\n",
    "\n",
    "for month, ideal_ingredients in cookbooks_ingredients_per_month.items():\n",
    "    month_newspaper = newspaper_df[newspaper_df[\"month\"] == month]\n",
    "    \n",
    "    matching_recipes = month_newspaper[\"Ingredients\"].apply(lambda x: len(x & ideal_ingredients) > 1).sum()\n",
    "    \n",
    "    total_recipes = len(month_newspaper)\n",
    "    \n",
    "    alignment_percentage = (matching_recipes / total_recipes) * 100 if total_recipes > 0 else 0\n",
    "    \n",
    "    alignment_results.append({\"month\": month, \"alignment_percentage\": alignment_percentage})\n",
    "\n",
    "alignment_df = pd.DataFrame(alignment_results)\n",
    "\n",
    "print(alignment_df)"
   ]
  }
 ],
 "metadata": {
  "language_info": {
   "name": "python"
  }
 },
 "nbformat": 4,
 "nbformat_minor": 2
}
