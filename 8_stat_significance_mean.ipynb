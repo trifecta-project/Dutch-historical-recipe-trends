{
 "cells": [
  {
   "cell_type": "markdown",
   "metadata": {},
   "source": [
    "- Content: Pearson correlation, average, standard deviation, and confidence interval for coookbook and newspaper recipes\n",
    "- Author: Teresa Paccosi\n",
    "- Paper: 'Detecting Changing Culinary Trends Through Historical Recipes' by Gauri Bhagwat, Marieke van Erp, Teresa Paccosi, and Rik Hoekstra"
   ]
  },
  {
   "cell_type": "code",
   "execution_count": null,
   "metadata": {},
   "outputs": [
    {
     "name": "stdout",
     "output_type": "stream",
     "text": [
      "Correlation between year and average number of ingredients per recipe: 0.947\n",
      "p-value of the correlation: 0.053\n"
     ]
    }
   ],
   "source": [
    "#COOKBOOKS editions\n",
    "\n",
    "from scipy.stats import pearsonr\n",
    "import pandas as pd\n",
    "\n",
    "def extract_ingredient_count(file_path):\n",
    "    df = pd.read_csv(file_path)\n",
    "    df['ingredient_count'] = df['Ingredients'].apply(lambda x: len(str(x).split(',')))\n",
    "    return df\n",
    "\n",
    "def calculate_average_ingredient_count(df):\n",
    "    avg_ingredient_count = df['ingredient_count'].mean()\n",
    "    return avg_ingredient_count\n",
    "\n",
    "def calculate_correlation_average_ingredient_count(period_files):\n",
    "    periods = [] \n",
    "    avg_ingredient_counts = []\n",
    "    \n",
    "    for file in period_files:\n",
    "        df = extract_ingredient_count(file)\n",
    "        avg_ingredient_count = calculate_average_ingredient_count(df)\n",
    "        period = int(file.split('_')[0])\n",
    "        \n",
    "        periods.append(period)\n",
    "        avg_ingredient_counts.append(avg_ingredient_count)\n",
    "    \n",
    "    correlation, p_value = pearsonr(periods, avg_ingredient_counts)\n",
    "    return correlation, p_value\n",
    "\n",
    "period_files = ['1910_ingredients.csv', '1912_ingredients.csv', '1925_ingredients.csv', '1940_ingredients.csv']\n",
    "\n",
    "# period_files = ['1910_ingredients.csv', '1912_ingredients.csv', '1925_ingredients.csv', '1932_ingredients.csv', \n",
    "#                 '1938_ingredients.csv', '1939_ingredients.csv', '1940_ingredients.csv']\n",
    "\n",
    "correlation, p_value = calculate_correlation_average_ingredient_count(period_files)\n",
    "\n",
    "print(f\"Correlation between year and average number of ingredients per recipe: {correlation:.3f}\")\n",
    "print(f\"p-value of the correlation: {p_value:.3f}\")\n"
   ]
  },
  {
   "cell_type": "code",
   "execution_count": null,
   "metadata": {},
   "outputs": [
    {
     "name": "stdout",
     "output_type": "stream",
     "text": [
      "Correlation between year and average number of ingredients per recipe: -0.163\n",
      "p-value of the correlation: 0.727\n"
     ]
    }
   ],
   "source": [
    "# ALL COOKBOOKS\n",
    "\n",
    "from scipy.stats import pearsonr\n",
    "import pandas as pd\n",
    "\n",
    "def extract_ingredient_count(file_path):\n",
    "    df = pd.read_csv(file_path)\n",
    "    df['ingredient_count'] = df['Ingredients'].apply(lambda x: len(str(x).split(',')))\n",
    "    return df\n",
    "\n",
    "def calculate_average_ingredient_count(df):\n",
    "    avg_ingredient_count = df['ingredient_count'].mean()\n",
    "    return avg_ingredient_count\n",
    "\n",
    "def calculate_correlation_average_ingredient_count(period_files):\n",
    "    periods = [] \n",
    "    avg_ingredient_counts = []\n",
    "    \n",
    "    for file in period_files:\n",
    "        df = extract_ingredient_count(file)\n",
    "        avg_ingredient_count = calculate_average_ingredient_count(df)\n",
    "        period = int(file.split('_')[0])\n",
    "        \n",
    "        periods.append(period)\n",
    "        avg_ingredient_counts.append(avg_ingredient_count)\n",
    "    \n",
    "    correlation, p_value = pearsonr(periods, avg_ingredient_counts)\n",
    "    return correlation, p_value\n",
    "\n",
    "# period_files = ['1910_ingredients.csv', '1912_ingredients.csv', '1925_ingredients.csv', '1940_ingredients.csv']\n",
    "\n",
    "period_files = ['1910_ingredients.csv', '1912_ingredients.csv', '1925_ingredients.csv', '1932_ingredients.csv', \n",
    "                '1938_ingredients.csv', '1939_ingredients.csv', '1940_ingredients.csv']\n",
    "\n",
    "correlation, p_value = calculate_correlation_average_ingredient_count(period_files)\n",
    "\n",
    "print(f\"Correlation between year and average number of ingredients per recipe: {correlation:.3f}\")\n",
    "print(f\"p-value of the correlation: {p_value:.3f}\")\n"
   ]
  },
  {
   "cell_type": "code",
   "execution_count": null,
   "metadata": {},
   "outputs": [
    {
     "name": "stdout",
     "output_type": "stream",
     "text": [
      "Correlation between year and average number of ingredients per recipe: 0.844\n",
      "p-value: 0.000\n"
     ]
    }
   ],
   "source": [
    "#NEWSPAPER RECIPES\n",
    "\n",
    "import pandas as pd\n",
    "from scipy.stats import pearsonr\n",
    "\n",
    "def extract_ingredient_count(file_path):\n",
    "    df = pd.read_csv(file_path)\n",
    "    df['ingredient_count'] = df['Ingredients'].apply(lambda x: len(str(x).split(',')))\n",
    "    df['year'] = pd.to_datetime(df['date']).dt.year\n",
    "    return df\n",
    "\n",
    "def calculate_correlation(file_path):\n",
    "    df = extract_ingredient_count(file_path)\n",
    "    avg_ingredient_count_per_year = df.groupby('year')['ingredient_count'].mean()\n",
    "\n",
    "    correlation, p_value = pearsonr(avg_ingredient_count_per_year.index, avg_ingredient_count_per_year)\n",
    "    \n",
    "    return correlation, p_value\n",
    "\n",
    "file_path = 'recipe_web.csv' \n",
    "\n",
    "correlation, p_value = calculate_correlation(file_path)\n",
    "\n",
    "print(f\"Correlation between year and average number of ingredients per recipe: {correlation:.3f}\")\n",
    "print(f\"p-value: {p_value:.3f}\")"
   ]
  },
  {
   "cell_type": "code",
   "execution_count": null,
   "metadata": {},
   "outputs": [],
   "source": [
    "dfs = [pd.read_csv(pf) for pf in period_files]\n",
    "\n",
    "years = [int(pf[:4]) for pf in period_files]\n",
    "for yi, year in enumerate(years):\n",
    "    dfs[yi]['Year'] = year\n",
    "\n",
    "combined_df = pd.concat([df[['Year', 'Title', 'Ingredients']] for df in dfs])"
   ]
  },
  {
   "cell_type": "code",
   "execution_count": null,
   "metadata": {},
   "outputs": [],
   "source": [
    "combined_df.describe()\n",
    "combined_df['ingredient_count'] = combined_df.Ingredients.apply(lambda x: len(x.split(', ')) if pd.isna(x) == False else x)\n",
    "combined_df\n",
    "combined_df.Year.value_counts()\n",
    "selected_years = [1910, 1912, 1925, 1940]"
   ]
  },
  {
   "cell_type": "code",
   "execution_count": 24,
   "metadata": {},
   "outputs": [
    {
     "data": {
      "text/plain": [
       "(6673, 4)"
      ]
     },
     "execution_count": 24,
     "metadata": {},
     "output_type": "execute_result"
    }
   ],
   "source": [
    "combined_df.Year.value_counts()\n",
    "combined_df.ingredient_count.value_counts()\n",
    "combined_df = combined_df[(combined_df.Year.notna()) & (combined_df.ingredient_count.notna())]\n",
    "combined_df.shape"
   ]
  },
  {
   "cell_type": "code",
   "execution_count": 63,
   "metadata": {},
   "outputs": [
    {
     "data": {
      "text/plain": [
       "<Axes: xlabel='Year', ylabel='ingredient_count'>"
      ]
     },
     "execution_count": 63,
     "metadata": {},
     "output_type": "execute_result"
    },
    {
     "data": {
      "image/png": "[encoded data removed]",
      "text/plain": [
       "<Figure size 640x480 with 1 Axes>"
      ]
     },
     "metadata": {},
     "output_type": "display_data"
    }
   ],
   "source": [
    "# average+standard deviation cookbook recipes (editions)\n",
    "\n",
    "sns.lineplot(data=combined_df[combined_df.Year.isin(selected_years)], x='Year', y='ingredient_count', errorbar='sd')"
   ]
  },
  {
   "cell_type": "code",
   "execution_count": 64,
   "metadata": {},
   "outputs": [
    {
     "data": {
      "text/plain": [
       "<Axes: xlabel='Year', ylabel='ingredient_count'>"
      ]
     },
     "execution_count": 64,
     "metadata": {},
     "output_type": "execute_result"
    },
    {
     "data": {
      "image/png": "[encoded data removed]",
      "text/plain": [
       "<Figure size 640x480 with 1 Axes>"
      ]
     },
     "metadata": {},
     "output_type": "display_data"
    }
   ],
   "source": [
    "# average+confidence interval cookbook recipes (editions)\n",
    "\n",
    "sns.lineplot(data=combined_df[combined_df.Year.isin(selected_years)], x='Year', y='ingredient_count', errorbar='ci')"
   ]
  },
  {
   "cell_type": "code",
   "execution_count": 65,
   "metadata": {},
   "outputs": [
    {
     "data": {
      "text/plain": [
       "0    1957\n",
       "1    1957\n",
       "2    1957\n",
       "3    1957\n",
       "4    1957\n",
       "Name: year, dtype: object"
      ]
     },
     "execution_count": 65,
     "metadata": {},
     "output_type": "execute_result"
    }
   ],
   "source": [
    "df_new = pd.read_csv('recipe_web.csv')\n",
    "df_new['year'] = df_new['date'].astype(str).str[:4]\n",
    "df_new['year'].head()"
   ]
  },
  {
   "cell_type": "code",
   "execution_count": 66,
   "metadata": {},
   "outputs": [],
   "source": [
    "import seaborn as sns"
   ]
  },
  {
   "cell_type": "code",
   "execution_count": 67,
   "metadata": {},
   "outputs": [
    {
     "data": {
      "text/html": [
       "<div>\n",
       "<style scoped>\n",
       "    .dataframe tbody tr th:only-of-type {\n",
       "        vertical-align: middle;\n",
       "    }\n",
       "\n",
       "    .dataframe tbody tr th {\n",
       "        vertical-align: top;\n",
       "    }\n",
       "\n",
       "    .dataframe thead th {\n",
       "        text-align: right;\n",
       "    }\n",
       "</style>\n",
       "<table border=\"1\" class=\"dataframe\">\n",
       "  <thead>\n",
       "    <tr style=\"text-align: right;\">\n",
       "      <th></th>\n",
       "      <th>Unnamed: 0</th>\n",
       "      <th>title</th>\n",
       "      <th>date</th>\n",
       "      <th>doc_url</th>\n",
       "      <th>h</th>\n",
       "      <th>w</th>\n",
       "      <th>identified_language</th>\n",
       "      <th>ocr_score</th>\n",
       "      <th>Ingredients</th>\n",
       "      <th>quant</th>\n",
       "      <th>tags</th>\n",
       "      <th>year</th>\n",
       "      <th>ingredient_count</th>\n",
       "    </tr>\n",
       "  </thead>\n",
       "  <tbody>\n",
       "    <tr>\n",
       "      <th>0</th>\n",
       "      <td>0</td>\n",
       "      <td>volkskrant</td>\n",
       "      <td>1957-07-03</td>\n",
       "      <td>http://resolver.kb.nl/resolve?urn=ABCDDD:01084...</td>\n",
       "      <td>1936</td>\n",
       "      <td>1381</td>\n",
       "      <td>nl</td>\n",
       "      <td>0.914172</td>\n",
       "      <td>tomaten, kropsla, geraspte, paprika, olie, dil...</td>\n",
       "      <td>een blad , een blaadje , een schaaltje</td>\n",
       "      <td>oven, vegetarisch</td>\n",
       "      <td>1957</td>\n",
       "      <td>29.0</td>\n",
       "    </tr>\n",
       "    <tr>\n",
       "      <th>1</th>\n",
       "      <td>1</td>\n",
       "      <td>volkskrant</td>\n",
       "      <td>1957-07-03</td>\n",
       "      <td>http://resolver.kb.nl/resolve?urn=ABCDDD:01084...</td>\n",
       "      <td>747</td>\n",
       "      <td>681</td>\n",
       "      <td>nl</td>\n",
       "      <td>0.913043</td>\n",
       "      <td>azijn, tomaten, prei, zout, peper en zout, pet...</td>\n",
       "      <td>NaN</td>\n",
       "      <td>NaN</td>\n",
       "      <td>1957</td>\n",
       "      <td>12.0</td>\n",
       "    </tr>\n",
       "    <tr>\n",
       "      <th>2</th>\n",
       "      <td>2</td>\n",
       "      <td>volkskrant</td>\n",
       "      <td>1957-07-10</td>\n",
       "      <td>http://resolver.kb.nl/resolve?urn=ABCDDD:01084...</td>\n",
       "      <td>596</td>\n",
       "      <td>611</td>\n",
       "      <td>nl</td>\n",
       "      <td>0.972727</td>\n",
       "      <td>ui, tomaten, ei, boter, aardappel, zout, peter...</td>\n",
       "      <td>NaN</td>\n",
       "      <td>bakken</td>\n",
       "      <td>1957</td>\n",
       "      <td>11.0</td>\n",
       "    </tr>\n",
       "    <tr>\n",
       "      <th>3</th>\n",
       "      <td>3</td>\n",
       "      <td>volkskrant</td>\n",
       "      <td>1957-07-25</td>\n",
       "      <td>http://resolver.kb.nl/resolve?urn=ABCDDD:01084...</td>\n",
       "      <td>1665</td>\n",
       "      <td>1384</td>\n",
       "      <td>nl</td>\n",
       "      <td>0.967337</td>\n",
       "      <td>sinaasappelsap, melk, sterke koffie, volkorenb...</td>\n",
       "      <td>een halve</td>\n",
       "      <td>oven</td>\n",
       "      <td>1957</td>\n",
       "      <td>23.0</td>\n",
       "    </tr>\n",
       "    <tr>\n",
       "      <th>4</th>\n",
       "      <td>4</td>\n",
       "      <td>volkskrant</td>\n",
       "      <td>1957-07-25</td>\n",
       "      <td>http://resolver.kb.nl/resolve?urn=ABCDDD:01084...</td>\n",
       "      <td>954</td>\n",
       "      <td>629</td>\n",
       "      <td>nl</td>\n",
       "      <td>0.864516</td>\n",
       "      <td>brood, zure room, room, ham, ananas, citroen, ...</td>\n",
       "      <td>NaN</td>\n",
       "      <td>bakken, hollands</td>\n",
       "      <td>1957</td>\n",
       "      <td>19.0</td>\n",
       "    </tr>\n",
       "    <tr>\n",
       "      <th>...</th>\n",
       "      <td>...</td>\n",
       "      <td>...</td>\n",
       "      <td>...</td>\n",
       "      <td>...</td>\n",
       "      <td>...</td>\n",
       "      <td>...</td>\n",
       "      <td>...</td>\n",
       "      <td>...</td>\n",
       "      <td>...</td>\n",
       "      <td>...</td>\n",
       "      <td>...</td>\n",
       "      <td>...</td>\n",
       "      <td>...</td>\n",
       "    </tr>\n",
       "    <tr>\n",
       "      <th>27406</th>\n",
       "      <td>5932</td>\n",
       "      <td>trouw</td>\n",
       "      <td>1956-04-27</td>\n",
       "      <td>http://resolver.kb.nl/resolve?urn=ABCDDD:01082...</td>\n",
       "      <td>2045</td>\n",
       "      <td>590</td>\n",
       "      <td>nl</td>\n",
       "      <td>0.923810</td>\n",
       "      <td>vijgen, aardappelmeel, citroensap, zout, witte...</td>\n",
       "      <td>100 gram , 50 gram , 7 dl</td>\n",
       "      <td>NaN</td>\n",
       "      <td>1956</td>\n",
       "      <td>13.0</td>\n",
       "    </tr>\n",
       "    <tr>\n",
       "      <th>27407</th>\n",
       "      <td>5933</td>\n",
       "      <td>trouw</td>\n",
       "      <td>1956-05-04</td>\n",
       "      <td>http://resolver.kb.nl/resolve?urn=ABCDDD:01082...</td>\n",
       "      <td>840</td>\n",
       "      <td>579</td>\n",
       "      <td>nl</td>\n",
       "      <td>0.857143</td>\n",
       "      <td>slasaus, margarine, custardpoeder, aardappelen...</td>\n",
       "      <td>2 blikje , 2 kropjes , 2 kg , 4 dl</td>\n",
       "      <td>oven</td>\n",
       "      <td>1956</td>\n",
       "      <td>8.0</td>\n",
       "    </tr>\n",
       "    <tr>\n",
       "      <th>27408</th>\n",
       "      <td>5934</td>\n",
       "      <td>trouw</td>\n",
       "      <td>1956-05-04</td>\n",
       "      <td>http://resolver.kb.nl/resolve?urn=ABCDDD:01082...</td>\n",
       "      <td>1436</td>\n",
       "      <td>580</td>\n",
       "      <td>nl</td>\n",
       "      <td>0.880208</td>\n",
       "      <td>gember, bruine bonen, rozijnen, krenten, kanee...</td>\n",
       "      <td>4 dl</td>\n",
       "      <td>NaN</td>\n",
       "      <td>1956</td>\n",
       "      <td>12.0</td>\n",
       "    </tr>\n",
       "    <tr>\n",
       "      <th>27409</th>\n",
       "      <td>5935</td>\n",
       "      <td>trouw</td>\n",
       "      <td>1956-05-04</td>\n",
       "      <td>http://resolver.kb.nl/resolve?urn=ABCDDD:01082...</td>\n",
       "      <td>166</td>\n",
       "      <td>578</td>\n",
       "      <td>de</td>\n",
       "      <td>0.850000</td>\n",
       "      <td>kaas</td>\n",
       "      <td>NaN</td>\n",
       "      <td>oven, vegetarisch</td>\n",
       "      <td>1956</td>\n",
       "      <td>1.0</td>\n",
       "    </tr>\n",
       "    <tr>\n",
       "      <th>27410</th>\n",
       "      <td>5936</td>\n",
       "      <td>trouw</td>\n",
       "      <td>1956-05-09</td>\n",
       "      <td>http://resolver.kb.nl/resolve?urn=ABCDDD:01082...</td>\n",
       "      <td>240</td>\n",
       "      <td>675</td>\n",
       "      <td>af</td>\n",
       "      <td>0.803571</td>\n",
       "      <td>haring</td>\n",
       "      <td>NaN</td>\n",
       "      <td>koken</td>\n",
       "      <td>1956</td>\n",
       "      <td>1.0</td>\n",
       "    </tr>\n",
       "  </tbody>\n",
       "</table>\n",
       "<p>27411 rows × 13 columns</p>\n",
       "</div>"
      ],
      "text/plain": [
       "       Unnamed: 0       title        date  \\\n",
       "0               0  volkskrant  1957-07-03   \n",
       "1               1  volkskrant  1957-07-03   \n",
       "2               2  volkskrant  1957-07-10   \n",
       "3               3  volkskrant  1957-07-25   \n",
       "4               4  volkskrant  1957-07-25   \n",
       "...           ...         ...         ...   \n",
       "27406        5932       trouw  1956-04-27   \n",
       "27407        5933       trouw  1956-05-04   \n",
       "27408        5934       trouw  1956-05-04   \n",
       "27409        5935       trouw  1956-05-04   \n",
       "27410        5936       trouw  1956-05-09   \n",
       "\n",
       "                                                 doc_url     h     w  \\\n",
       "0      http://resolver.kb.nl/resolve?urn=ABCDDD:01084...  1936  1381   \n",
       "1      http://resolver.kb.nl/resolve?urn=ABCDDD:01084...   747   681   \n",
       "2      http://resolver.kb.nl/resolve?urn=ABCDDD:01084...   596   611   \n",
       "3      http://resolver.kb.nl/resolve?urn=ABCDDD:01084...  1665  1384   \n",
       "4      http://resolver.kb.nl/resolve?urn=ABCDDD:01084...   954   629   \n",
       "...                                                  ...   ...   ...   \n",
       "27406  http://resolver.kb.nl/resolve?urn=ABCDDD:01082...  2045   590   \n",
       "27407  http://resolver.kb.nl/resolve?urn=ABCDDD:01082...   840   579   \n",
       "27408  http://resolver.kb.nl/resolve?urn=ABCDDD:01082...  1436   580   \n",
       "27409  http://resolver.kb.nl/resolve?urn=ABCDDD:01082...   166   578   \n",
       "27410  http://resolver.kb.nl/resolve?urn=ABCDDD:01082...   240   675   \n",
       "\n",
       "      identified_language  ocr_score  \\\n",
       "0                      nl   0.914172   \n",
       "1                      nl   0.913043   \n",
       "2                      nl   0.972727   \n",
       "3                      nl   0.967337   \n",
       "4                      nl   0.864516   \n",
       "...                   ...        ...   \n",
       "27406                  nl   0.923810   \n",
       "27407                  nl   0.857143   \n",
       "27408                  nl   0.880208   \n",
       "27409                  de   0.850000   \n",
       "27410                  af   0.803571   \n",
       "\n",
       "                                             Ingredients  \\\n",
       "0      tomaten, kropsla, geraspte, paprika, olie, dil...   \n",
       "1      azijn, tomaten, prei, zout, peper en zout, pet...   \n",
       "2      ui, tomaten, ei, boter, aardappel, zout, peter...   \n",
       "3      sinaasappelsap, melk, sterke koffie, volkorenb...   \n",
       "4      brood, zure room, room, ham, ananas, citroen, ...   \n",
       "...                                                  ...   \n",
       "27406  vijgen, aardappelmeel, citroensap, zout, witte...   \n",
       "27407  slasaus, margarine, custardpoeder, aardappelen...   \n",
       "27408  gember, bruine bonen, rozijnen, krenten, kanee...   \n",
       "27409                                               kaas   \n",
       "27410                                             haring   \n",
       "\n",
       "                                         quant               tags  year  \\\n",
       "0      een blad , een blaadje , een schaaltje   oven, vegetarisch  1957   \n",
       "1                                          NaN                NaN  1957   \n",
       "2                                          NaN             bakken  1957   \n",
       "3                                   een halve                oven  1957   \n",
       "4                                          NaN   bakken, hollands  1957   \n",
       "...                                        ...                ...   ...   \n",
       "27406               100 gram , 50 gram , 7 dl                 NaN  1956   \n",
       "27407      2 blikje , 2 kropjes , 2 kg , 4 dl                oven  1956   \n",
       "27408                                    4 dl                 NaN  1956   \n",
       "27409                                      NaN  oven, vegetarisch  1956   \n",
       "27410                                      NaN              koken  1956   \n",
       "\n",
       "       ingredient_count  \n",
       "0                  29.0  \n",
       "1                  12.0  \n",
       "2                  11.0  \n",
       "3                  23.0  \n",
       "4                  19.0  \n",
       "...                 ...  \n",
       "27406              13.0  \n",
       "27407               8.0  \n",
       "27408              12.0  \n",
       "27409               1.0  \n",
       "27410               1.0  \n",
       "\n",
       "[27411 rows x 13 columns]"
      ]
     },
     "execution_count": 67,
     "metadata": {},
     "output_type": "execute_result"
    }
   ],
   "source": [
    "df_new.describe()\n",
    "df_new['ingredient_count'] = df_new.Ingredients.apply(lambda x: len(x.split(', ')) if pd.isna(x) == False else x)\n",
    "df_new\n",
    "# combin_df.Year.value_counts()"
   ]
  },
  {
   "cell_type": "code",
   "execution_count": 68,
   "metadata": {},
   "outputs": [],
   "source": [
    "# decade for visualisation newspaper recipes\n",
    "\n",
    "df_new['10'] = (df_new['year'].astype(int) // 10) * 10"
   ]
  },
  {
   "cell_type": "code",
   "execution_count": 69,
   "metadata": {},
   "outputs": [
    {
     "data": {
      "text/plain": [
       "<Axes: xlabel='10', ylabel='ingredient_count'>"
      ]
     },
     "execution_count": 69,
     "metadata": {},
     "output_type": "execute_result"
    },
    {
     "data": {
      "image/png": "[encoded data removed]",
      "text/plain": [
       "<Figure size 640x480 with 1 Axes>"
      ]
     },
     "metadata": {},
     "output_type": "display_data"
    }
   ],
   "source": [
    "# average+standard deviation newspaper recipes\n",
    "\n",
    "sns.lineplot(data=df_new, x='10', y='ingredient_count', errorbar='sd')"
   ]
  },
  {
   "cell_type": "code",
   "execution_count": 62,
   "metadata": {},
   "outputs": [
    {
     "data": {
      "text/plain": [
       "<Axes: xlabel='10', ylabel='ingredient_count'>"
      ]
     },
     "execution_count": 62,
     "metadata": {},
     "output_type": "execute_result"
    },
    {
     "data": {
      "image/png": "[encoded data removed]",
      "text/plain": [
       "<Figure size 640x480 with 1 Axes>"
      ]
     },
     "metadata": {},
     "output_type": "display_data"
    }
   ],
   "source": [
    "# average+confidence interval newspaper recipes\n",
    "\n",
    "sns.lineplot(data=df_new, x='10', y='ingredient_count', errorbar='ci')"
   ]
  }
 ],
 "metadata": {
  "kernelspec": {
   "display_name": "tere",
   "language": "python",
   "name": "python3"
  },
  "language_info": {
   "codemirror_mode": {
    "name": "ipython",
    "version": 3
   },
   "file_extension": ".py",
   "mimetype": "text/x-python",
   "name": "python",
   "nbconvert_exporter": "python",
   "pygments_lexer": "ipython3",
   "version": "3.9.20"
  }
 },
 "nbformat": 4,
 "nbformat_minor": 2
}
