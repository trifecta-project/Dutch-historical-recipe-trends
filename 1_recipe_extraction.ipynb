{
 "cells": [
  {
   "cell_type": "markdown",
   "metadata": {},
   "source": [
    "<h1> Cookbooks Recipes"
   ]
  },
  {
   "cell_type": "code",
   "execution_count": null,
   "metadata": {},
   "outputs": [],
   "source": [
    "import re\n",
    "import csv\n",
    "\n",
    "with open('1910_cookbook.txt', 'r', encoding='utf-8') as file: #file name to be changed as per the desired file\n",
    "    lines = file.readlines()\n",
    "\n",
    "data = []\n",
    "current_recipe = None\n",
    "current_content = []\n",
    "\n",
    "for line in lines:\n",
    "    if re.match(r'^\\d+\\.\\s+[^\\.]+\\.$', line.strip()):\n",
    "        if current_recipe:\n",
    "            content = \" \".join(current_content).strip()\n",
    "            data.append([current_recipe[0], current_recipe[1], content])\n",
    "            current_content = [] \n",
    "\n",
    "        recipe_number, title = re.match(r'^(\\d+)\\.\\s+([^\\.]+)\\.$', line.strip()).groups()\n",
    "        current_recipe = [recipe_number, title]\n",
    "    elif current_recipe:\n",
    "        current_content.append(line.strip())\n",
    "\n",
    "if current_recipe:\n",
    "    content = \" \".join(current_content).strip()\n",
    "    data.append([current_recipe[0], current_recipe[1], content])\n",
    "\n",
    "with open('1910_recipes.csv', 'w', newline='', encoding='utf-8') as csvfile:\n",
    "    writer = csv.writer(csvfile)\n",
    "    writer.writerow(['Recipe_number', 'Title', 'Content'])\n",
    "    writer.writerows(data)\n",
    "\n",
    "print(f\"{len(data)} recipes have been saved\")"
   ]
  }
 ],
 "metadata": {
  "language_info": {
   "name": "python"
  }
 },
 "nbformat": 4,
 "nbformat_minor": 2
}
