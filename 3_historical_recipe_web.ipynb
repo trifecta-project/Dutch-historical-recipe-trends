{
 "cells": [
  {
   "cell_type": "markdown",
   "metadata": {},
   "source": [
    "<h1> Historical Recipe Web : Data cleaning and arrangement"
   ]
  },
  {
   "cell_type": "code",
   "execution_count": null,
   "metadata": {},
   "outputs": [],
   "source": [
    "import pandas as pd\n",
    "\n",
    "def filter_csv(input_file, output_file):\n",
    "    \n",
    "    df = pd.read_csv(input_file)\n",
    "\n",
    "    df = df.dropna(subset=['ingredients'])\n",
    "    \n",
    "    df = df[(df['identified_language'] == 'nl') & (df['ocr_score'] > 0.3)]\n",
    "    \n",
    "   \n",
    "    df.to_csv(output_file, index=False)\n",
    "\n",
    "\n",
    "filter_csv('recipe_web.csv', 'clean_recipe_web.csv')\n"
   ]
  },
  {
   "cell_type": "markdown",
   "metadata": {},
   "source": [
    "<h4> Dividing the data in decades"
   ]
  },
  {
   "cell_type": "code",
   "execution_count": null,
   "metadata": {},
   "outputs": [],
   "source": [
    "import pandas as pd\n",
    "\n",
    "df = pd.read_csv(\"clean_recipe_web.csv\")\n",
    "df = df[['title', 'date', 'Ingredients', 'tags']]\n",
    "df['date'] = pd.to_datetime(df['date'], errors='coerce').dt.year\n",
    "\n",
    "# Defining the decade bins\n",
    "decades = {\n",
    "    \"1941_1950\": (1941, 1950),\n",
    "    \"1951_1960\": (1951, 1960),\n",
    "    \"1961_1970\": (1961, 1970),\n",
    "    \"1971_1980\": (1971, 1980),\n",
    "    \"1981_1990\": (1981, 1990),\n",
    "    \"1991_2000\": (1991, 2000)\n",
    "}\n",
    "\n",
    "for filename, (start, end) in decades.items():\n",
    "    df_decade = df[(df['date'] >= start) & (df['date'] <= end)]\n",
    "    if not df_decade.empty: \n",
    "        df_decade.to_csv(f\"{filename}.csv\", index=False)\n",
    "\n",
    "print(\"Data has been split into separate decade-based CSV files.\")\n"
   ]
  }
 ],
 "metadata": {
  "language_info": {
   "name": "python"
  }
 },
 "nbformat": 4,
 "nbformat_minor": 2
}
