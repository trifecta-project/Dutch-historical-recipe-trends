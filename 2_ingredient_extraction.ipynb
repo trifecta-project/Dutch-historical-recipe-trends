{
 "cells": [
  {
   "cell_type": "code",
   "execution_count": null,
   "metadata": {},
   "outputs": [],
   "source": [
    "import csv\n",
    "import re\n",
    "\n",
    "def load_ingredients(file_path):\n",
    "    with open(file_path, \"r\", encoding=\"utf-8\") as file:\n",
    "        return {line.strip().lower() for line in file if line.strip()}\n",
    "\n",
    "def extract_ingredients(recipe_text, ingredient_set):\n",
    "    words = set(re.findall(r\"\\b\\w+\\b\", recipe_text.lower()))\n",
    "    found_ingredients = [word for word in words if word in ingredient_set]\n",
    "    return \", \".join(found_ingredients)\n",
    "\n",
    "recipe_csv_file = \"1910_recipes.csv\"\n",
    "ingredient_file_path = \"combined_ingredients.txt\"\n",
    "output_csv_file = \"1910_ingredients.csv\"\n",
    "\n",
    "ingredient_set = load_ingredients(ingredient_file_path)\n",
    "\n",
    "with open(recipe_csv_file, \"r\", encoding=\"utf-8\") as input_csv, open(output_csv_file, \"w\", newline=\"\", encoding=\"utf-8\") as output_csv:\n",
    "    reader = csv.reader(input_csv)\n",
    "    writer = csv.writer(output_csv)\n",
    "    \n",
    "    header = next(reader)\n",
    "    header.append(\"Ingredients\") \n",
    "    writer.writerow(header)\n",
    "\n",
    "    for row in reader:\n",
    "        recipe_content = row[2]\n",
    "        ingredients = extract_ingredients(recipe_content, ingredient_set)\n",
    "        row.append(ingredients)\n",
    "        writer.writerow(row)\n",
    "\n",
    "print(f\"Recipes with extracted ingredients saved to: {output_csv_file}\")\n"
   ]
  }
 ],
 "metadata": {
  "language_info": {
   "name": "python"
  }
 },
 "nbformat": 4,
 "nbformat_minor": 2
}
